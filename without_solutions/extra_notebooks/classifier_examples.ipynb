{
 "cells": [
  {
   "cell_type": "code",
   "execution_count": null,
   "metadata": {
    "execution": {
     "iopub.execute_input": "2021-02-12T10:37:28.240060Z",
     "iopub.status.busy": "2021-02-12T10:37:28.238121Z",
     "iopub.status.idle": "2021-02-12T10:37:30.816993Z",
     "shell.execute_reply": "2021-02-12T10:37:30.815087Z",
     "shell.execute_reply.started": "2021-02-12T10:37:28.239928Z"
    }
   },
   "outputs": [],
   "source": [
    "!pip install graphviz"
   ]
  },
  {
   "cell_type": "code",
   "execution_count": null,
   "metadata": {
    "execution": {
     "iopub.execute_input": "2021-02-12T10:37:30.823985Z",
     "iopub.status.busy": "2021-02-12T10:37:30.822823Z",
     "iopub.status.idle": "2021-02-12T10:37:31.389711Z",
     "shell.execute_reply": "2021-02-12T10:37:31.388742Z",
     "shell.execute_reply.started": "2021-02-12T10:37:30.823890Z"
    }
   },
   "outputs": [],
   "source": [
    "import pandas as pd\n",
    "\n",
    "# read some data\n",
    "beer_data = pd.read_csv(\"../data/beers.csv\")\n",
    "beer_data.head(5)"
   ]
  },
  {
   "cell_type": "code",
   "execution_count": null,
   "metadata": {
    "execution": {
     "iopub.execute_input": "2021-02-12T10:37:31.403791Z",
     "iopub.status.busy": "2021-02-12T10:37:31.402439Z",
     "iopub.status.idle": "2021-02-12T10:37:31.563095Z",
     "shell.execute_reply": "2021-02-12T10:37:31.560261Z",
     "shell.execute_reply.started": "2021-02-12T10:37:31.403748Z"
    }
   },
   "outputs": [],
   "source": [
    "# all columns up to the last one:\n",
    "input_features = beer_data.iloc[:, :-1]\n",
    "\n",
    "# only the last column:\n",
    "labels = beer_data.iloc[:, -1]\n",
    "\n",
    "print(input_features.head(5))\n",
    "print()\n",
    "print(labels.head(5))"
   ]
  },
  {
   "cell_type": "code",
   "execution_count": null,
   "metadata": {
    "execution": {
     "iopub.execute_input": "2021-02-12T10:37:31.572123Z",
     "iopub.status.busy": "2021-02-12T10:37:31.571429Z",
     "iopub.status.idle": "2021-02-12T10:37:32.922148Z",
     "shell.execute_reply": "2021-02-12T10:37:32.921457Z",
     "shell.execute_reply.started": "2021-02-12T10:37:31.572079Z"
    }
   },
   "outputs": [],
   "source": [
    "from sklearn.tree import DecisionTreeClassifier\n",
    "\n",
    "classifier = DecisionTreeClassifier(max_depth=4, ccp_alpha=0.01)\n",
    "classifier.fit(input_features, labels)\n",
    "\n",
    "predicted_labels = classifier.predict(input_features)\n",
    "print(labels.shape)\n",
    "print(sum(predicted_labels == labels))\n",
    "\n",
    "from graphviz import Source\n",
    "from IPython.display import SVG\n",
    "from sklearn import tree\n",
    "\n",
    "graph = Source(\n",
    "    tree.export_graphviz(\n",
    "        classifier,\n",
    "        out_file=None,\n",
    "        rotate=True,\n",
    "        feature_names=beer_data.columns[:-1],\n",
    "        class_names=[\"urgs\", \"yummy\"],\n",
    "    )\n",
    ")\n",
    "SVG(\n",
    "    graph.pipe(format=\"svg\"),\n",
    ")"
   ]
  },
  {
   "cell_type": "code",
   "execution_count": null,
   "metadata": {
    "execution": {
     "iopub.execute_input": "2021-02-12T10:37:32.924953Z",
     "iopub.status.busy": "2021-02-12T10:37:32.924022Z",
     "iopub.status.idle": "2021-02-12T10:37:33.000365Z",
     "shell.execute_reply": "2021-02-12T10:37:32.998342Z",
     "shell.execute_reply.started": "2021-02-12T10:37:32.924900Z"
    }
   },
   "outputs": [],
   "source": [
    "from sklearn.cluster import KMeans"
   ]
  },
  {
   "cell_type": "code",
   "execution_count": null,
   "metadata": {
    "execution": {
     "iopub.execute_input": "2021-02-12T10:37:33.002616Z",
     "iopub.status.busy": "2021-02-12T10:37:33.002203Z",
     "iopub.status.idle": "2021-02-12T10:37:33.165591Z",
     "shell.execute_reply": "2021-02-12T10:37:33.164559Z",
     "shell.execute_reply.started": "2021-02-12T10:37:33.002576Z"
    }
   },
   "outputs": [],
   "source": [
    "clf = KMeans(n_clusters=3)\n",
    "clf.fit(input_features)"
   ]
  },
  {
   "cell_type": "code",
   "execution_count": null,
   "metadata": {
    "execution": {
     "iopub.execute_input": "2021-02-12T10:37:33.179904Z",
     "iopub.status.busy": "2021-02-12T10:37:33.174646Z",
     "iopub.status.idle": "2021-02-12T10:37:33.205988Z",
     "shell.execute_reply": "2021-02-12T10:37:33.200804Z",
     "shell.execute_reply.started": "2021-02-12T10:37:33.179842Z"
    }
   },
   "outputs": [],
   "source": [
    "clf.n_clusters"
   ]
  },
  {
   "cell_type": "code",
   "execution_count": null,
   "metadata": {
    "execution": {
     "iopub.execute_input": "2021-02-12T10:37:33.223267Z",
     "iopub.status.busy": "2021-02-12T10:37:33.221043Z",
     "iopub.status.idle": "2021-02-12T10:37:36.613656Z",
     "shell.execute_reply": "2021-02-12T10:37:36.612744Z",
     "shell.execute_reply.started": "2021-02-12T10:37:33.223228Z"
    }
   },
   "outputs": [],
   "source": [
    "from sklearn.manifold import TSNE\n",
    "\n",
    "x = TSNE()\n",
    "y = x.fit_transform(input_features)"
   ]
  },
  {
   "cell_type": "code",
   "execution_count": null,
   "metadata": {
    "execution": {
     "iopub.execute_input": "2021-02-12T10:37:36.615613Z",
     "iopub.status.busy": "2021-02-12T10:37:36.615016Z",
     "iopub.status.idle": "2021-02-12T10:37:37.176033Z",
     "shell.execute_reply": "2021-02-12T10:37:37.175097Z",
     "shell.execute_reply.started": "2021-02-12T10:37:36.615575Z"
    }
   },
   "outputs": [],
   "source": [
    "import matplotlib.pyplot as plt"
   ]
  },
  {
   "cell_type": "code",
   "execution_count": null,
   "metadata": {
    "execution": {
     "iopub.execute_input": "2021-02-12T10:37:37.184080Z",
     "iopub.status.busy": "2021-02-12T10:37:37.183105Z",
     "iopub.status.idle": "2021-02-12T10:37:37.208921Z",
     "shell.execute_reply": "2021-02-12T10:37:37.207735Z",
     "shell.execute_reply.started": "2021-02-12T10:37:37.184038Z"
    }
   },
   "outputs": [],
   "source": [
    "colors = [\"rg\"[i] for i in labels]"
   ]
  },
  {
   "cell_type": "code",
   "execution_count": null,
   "metadata": {
    "execution": {
     "iopub.execute_input": "2021-02-12T10:37:37.213059Z",
     "iopub.status.busy": "2021-02-12T10:37:37.210124Z",
     "iopub.status.idle": "2021-02-12T10:37:37.444490Z",
     "shell.execute_reply": "2021-02-12T10:37:37.442627Z",
     "shell.execute_reply.started": "2021-02-12T10:37:37.213017Z"
    }
   },
   "outputs": [],
   "source": [
    "plt.scatter(y[:, 0], y[:, 1], color=colors)"
   ]
  },
  {
   "cell_type": "code",
   "execution_count": null,
   "metadata": {
    "execution": {
     "iopub.execute_input": "2021-02-12T10:37:37.447167Z",
     "iopub.status.busy": "2021-02-12T10:37:37.446834Z",
     "iopub.status.idle": "2021-02-12T10:37:37.719620Z",
     "shell.execute_reply": "2021-02-12T10:37:37.718504Z",
     "shell.execute_reply.started": "2021-02-12T10:37:37.447138Z"
    }
   },
   "outputs": [],
   "source": [
    "xv = beer_data[\"alcohol_content\"]\n",
    "yv = beer_data[\"bitterness\"]\n",
    "colors\n",
    "plt.scatter(xv, yv, color=colors)"
   ]
  },
  {
   "cell_type": "markdown",
   "metadata": {},
   "source": [
    "## SVC 2D plots"
   ]
  },
  {
   "cell_type": "code",
   "execution_count": null,
   "metadata": {
    "execution": {
     "iopub.execute_input": "2021-02-12T10:37:37.724967Z",
     "iopub.status.busy": "2021-02-12T10:37:37.722548Z",
     "iopub.status.idle": "2021-02-12T10:37:38.505309Z",
     "shell.execute_reply": "2021-02-12T10:37:38.504235Z",
     "shell.execute_reply.started": "2021-02-12T10:37:37.724919Z"
    }
   },
   "outputs": [],
   "source": [
    "import pandas as pd\n",
    "\n",
    "beer_data = pd.read_csv(\"../data/beers.csv\")\n",
    "input_features = beer_data.iloc[:, :-1]\n",
    "labels = beer_data.iloc[:, -1]\n",
    "# pick 2 features from `input_features.columns`\n",
    "input_features_names = [\"bitterness\", \"darkness\"]\n",
    "X = input_features[input_features_names]\n",
    "y = labels\n",
    "\n",
    "\"\"\"Source: https://scikit-learn.org/stable/auto_examples/svm/plot_iris.html#sphx-glr-auto-examples-svm-plot-iris-py\n",
    "\"\"\"\n",
    "import matplotlib.pyplot as plt\n",
    "import numpy as np\n",
    "\n",
    "\n",
    "def make_meshgrid(x, y, h=0.02):\n",
    "    \"\"\"Create a mesh of points to plot in\n",
    "\n",
    "    Parameters\n",
    "    ----------\n",
    "    x: data to base x-axis meshgrid on\n",
    "    y: data to base y-axis meshgrid on\n",
    "    h: stepsize for meshgrid, optional\n",
    "\n",
    "    Returns\n",
    "    -------\n",
    "    xx, yy : ndarray\n",
    "    \"\"\"\n",
    "    x_min, x_max = x.min() - 1, x.max() + 1\n",
    "    y_min, y_max = y.min() - 1, y.max() + 1\n",
    "    xx, yy = np.meshgrid(np.arange(x_min, x_max, h), np.arange(y_min, y_max, h))\n",
    "    return xx, yy\n",
    "\n",
    "\n",
    "def plot_contours(ax, clf, xx, yy, **params):\n",
    "    \"\"\"Plot the decision boundaries for a classifier.\n",
    "\n",
    "    Parameters\n",
    "    ----------\n",
    "    ax: matplotlib axes object\n",
    "    clf: a classifier\n",
    "    xx: meshgrid ndarray\n",
    "    yy: meshgrid ndarray\n",
    "    params: dictionary of params to pass to contourf, optional\n",
    "    \"\"\"\n",
    "    Z = clf.predict(np.c_[xx.ravel(), yy.ravel()])\n",
    "    Z = Z.reshape(xx.shape)\n",
    "    out = ax.contourf(xx, yy, Z, **params)\n",
    "    return out\n",
    "\n",
    "\n",
    "from sklearn import svm\n",
    "\n",
    "# we create an instance of SVM and fit out data. We do not scale our\n",
    "# data since we want to plot the support vectors\n",
    "C = 1.0  # SVM regularization parameter\n",
    "models = (\n",
    "    svm.SVC(kernel=\"linear\", C=C),\n",
    "    svm.LinearSVC(C=C),\n",
    "    svm.SVC(kernel=\"rbf\", gamma=0.7, C=C),\n",
    "    svm.SVC(kernel=\"poly\", degree=3, C=C),\n",
    ")\n",
    "models = [clf.fit(X, y) for clf in models]\n",
    "\n",
    "# title for the plots\n",
    "titles = (\n",
    "    \"SVC with linear kernel\",\n",
    "    \"LinearSVC (linear kernel)\",\n",
    "    \"SVC with RBF kernel\",\n",
    "    \"SVC with polynomial (degree 3) kernel\",\n",
    ")\n",
    "\n",
    "models = models[-1:]\n",
    "titles = (\"Is the beer yummy (blue) or not (red)?\",)\n",
    "\n",
    "# Set-up 2x2 grid for plotting.\n",
    "# fig, sub = plt.subplots(2, 2)\n",
    "fig, sub = plt.subplots(1, 1)\n",
    "plt.subplots_adjust(wspace=0.4, hspace=0.4)\n",
    "\n",
    "X0, X1 = X.iloc[:, 0], X.iloc[:, 1]\n",
    "xx, yy = make_meshgrid(X0, X1)\n",
    "\n",
    "for clf, title, ax in zip(\n",
    "    models, titles, sub.flatten() if hasattr(sub, \"flatten\") else [sub]\n",
    "):\n",
    "    plot_contours(ax, clf, xx, yy, cmap=plt.cm.coolwarm, alpha=0.8)\n",
    "    ax.scatter(X0, X1, c=y, cmap=plt.cm.coolwarm, s=20, edgecolors=\"k\")\n",
    "    ax.set_xlim(xx.min(), xx.max())\n",
    "    ax.set_ylim(yy.min(), yy.max())\n",
    "    ax.set_xlabel(input_features_names[0])\n",
    "    ax.set_ylabel(input_features_names[1])\n",
    "    ax.set_xticks(())\n",
    "    ax.set_yticks(())\n",
    "    ax.set_title(title)"
   ]
  },
  {
   "cell_type": "code",
   "execution_count": null,
   "metadata": {},
   "outputs": [],
   "source": []
  }
 ],
 "metadata": {
  "kernelspec": {
   "display_name": "Python 3",
   "language": "python",
   "name": "python3"
  },
  "language_info": {
   "codemirror_mode": {
    "name": "ipython",
    "version": 3
   },
   "file_extension": ".py",
   "mimetype": "text/x-python",
   "name": "python",
   "nbconvert_exporter": "python",
   "pygments_lexer": "ipython3",
   "version": "3.9.1"
  }
 },
 "nbformat": 4,
 "nbformat_minor": 4
}
