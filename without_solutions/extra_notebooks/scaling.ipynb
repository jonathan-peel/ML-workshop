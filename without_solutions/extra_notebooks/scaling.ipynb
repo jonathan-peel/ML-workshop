{
 "cells": [
  {
   "cell_type": "code",
   "execution_count": null,
   "metadata": {},
   "outputs": [],
   "source": [
    "import matplotlib.pyplot as plt\n",
    "import numpy as np"
   ]
  },
  {
   "cell_type": "code",
   "execution_count": null,
   "metadata": {},
   "outputs": [],
   "source": [
    "p = np.random.random(size=(200, 2)) * [(5, 1)]"
   ]
  },
  {
   "cell_type": "code",
   "execution_count": null,
   "metadata": {},
   "outputs": [],
   "source": [
    "# plt.figure(figsize=(10, 10))\n",
    "fig = plt.figure(figsize=(5, 5))\n",
    "ax = fig.subplots()\n",
    "\n",
    "x, y = np.meshgrid(np.linspace(0, 3, 20), np.linspace(0, 1, 20))\n",
    "\n",
    "plt.scatter(x, y, marker=\".\")\n",
    "plt.xlim(0, 3)\n",
    "plt.ylim(0, 1)\n",
    "plt.gca().set_aspect(\"equal\", adjustable=\"box\")\n",
    "plt.savefig(\"../images/different_scales.png\", bbox_inches=\"tight\")\n",
    "\n",
    "\n",
    "circle = plt.Circle((1.5, 0.5), 0.2, color=\"black\", alpha=0.1, clip_on=False)\n",
    "\n",
    "# note we must use plt.subplots, not plt.subplot\n",
    "# (or if you have an existing figure)\n",
    "# fig = plt.gcf()\n",
    "# ax = fig.gca()\n",
    "\n",
    "ax.add_patch(circle)\n",
    "plt.scatter([1.5], [0.5])\n",
    "\n",
    "plt.draw()\n",
    "\n",
    "plt.savefig(\"../images/before_rescaling.png\", bbox_inches=\"tight\")"
   ]
  },
  {
   "cell_type": "code",
   "execution_count": null,
   "metadata": {},
   "outputs": [],
   "source": [
    "fig = plt.figure(figsize=(5, 5))\n",
    "ax = fig.subplots()\n",
    "\n",
    "x, y = np.meshgrid(np.linspace(0, 3, 20), np.linspace(0, 1, 20))\n",
    "\n",
    "plt.scatter(x, y, marker=\".\")\n",
    "plt.xlim(0, 3)\n",
    "plt.ylim(0, 1)\n",
    "# plt.gca().set_aspect('square', adjustable=\"box\")\n",
    "# plt.axis('equal')\n",
    "# plt.savefig(\"../images/different_scales.png\", bbox_inches='tight')\n",
    "\n",
    "\n",
    "circle = plt.Circle((1.5, 0.5), 0.2, color=\"black\", alpha=0.1, clip_on=False)\n",
    "\n",
    "# note we must use plt.subplots, not plt.subplot\n",
    "# (or if you have an existing figure)\n",
    "# fig = plt.gcf()\n",
    "# ax = fig.gca()\n",
    "\n",
    "ax.add_patch(circle)\n",
    "plt.scatter([1.5], [0.5])\n",
    "\n",
    "plt.draw()\n",
    "\n",
    "plt.savefig(\"../images/before_rescaling_skewed_circle.png\", bbox_inches=\"tight\");"
   ]
  },
  {
   "cell_type": "code",
   "execution_count": null,
   "metadata": {},
   "outputs": [],
   "source": [
    "fig = plt.figure(figsize=(5, 5))\n",
    "ax = fig.subplots()\n",
    "\n",
    "\n",
    "x, y = np.meshgrid(np.linspace(0, 1, 20), np.linspace(0, 1, 20))\n",
    "\n",
    "plt.scatter(x, y, marker=\".\")\n",
    "plt.xlim(0, 1)\n",
    "plt.ylim(0, 1)\n",
    "plt.gca().set_aspect(\"equal\", adjustable=\"box\")\n",
    "\n",
    "plt.draw()\n",
    "\n",
    "\n",
    "circle = plt.Circle((0.5, 0.5), 0.2, color=\"black\", alpha=0.1, clip_on=False)\n",
    "\n",
    "# note we must use plt.subplots, not plt.subplot\n",
    "# (or if you have an existing figure)\n",
    "# fig = plt.gcf()\n",
    "# ax = fig.gca()\n",
    "\n",
    "ax.add_patch(circle)\n",
    "\n",
    "plt.scatter([0.5], [0.5])\n",
    "\n",
    "\n",
    "plt.draw()\n",
    "\n",
    "plt.savefig(\"../images/after_rescaling.png\", bbox_inches=\"tight\")"
   ]
  },
  {
   "cell_type": "code",
   "execution_count": null,
   "metadata": {},
   "outputs": [],
   "source": []
  }
 ],
 "metadata": {
  "kernelspec": {
   "display_name": "Python 3",
   "language": "python",
   "name": "python3"
  },
  "language_info": {
   "codemirror_mode": {
    "name": "ipython",
    "version": 3
   },
   "file_extension": ".py",
   "mimetype": "text/x-python",
   "name": "python",
   "nbconvert_exporter": "python",
   "pygments_lexer": "ipython3",
   "version": "3.7.7"
  }
 },
 "nbformat": 4,
 "nbformat_minor": 4
}
