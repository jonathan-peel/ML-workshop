{
 "cells": [
  {
   "cell_type": "code",
   "execution_count": null,
   "id": "f8a140cd",
   "metadata": {},
   "outputs": [],
   "source": [
    "# IGNORE THIS CELL WHICH CUSTOMIZES LAYOUT AND STYLING OF THE NOTEBOOK !\n",
    "import matplotlib.pyplot as plt\n",
    "\n",
    "%matplotlib inline\n",
    "%config InlineBackend.figure_format = 'retina'\n",
    "import warnings\n",
    "\n",
    "warnings.filterwarnings(\"ignore\", category=FutureWarning)\n",
    "warnings.filterwarnings = lambda *a, **kw: None\n",
    "from IPython.core.display import HTML\n",
    "\n",
    "HTML(open(\"custom.html\", \"r\").read())"
   ]
  },
  {
   "cell_type": "markdown",
   "id": "5b0c5fc4",
   "metadata": {},
   "source": [
    "# Chapter 0: Introduction \n",
    "\n",
    "\n",
    "<div class=\"alert alert-block alert-warning\">\n",
    "    <i class=\"fa fa-warning\"></i>&nbsp;This script introduces <code>numpy</code>, <code>pandas</code> and <code>matplotlib</code> and <code>seaborn</code> as far as we use it in the following course. \n",
    "\n",
    "\n",
    "Thus it is not a comprehensive introduction to these libraries !\n",
    "    </div>"
   ]
  },
  {
   "cell_type": "markdown",
   "id": "1fced4b2",
   "metadata": {},
   "source": [
    "## pandas\n",
    "\n",
    "`pandas` allows handling tabular data as so called `DataFrame`s. Tabular data means that columns have types. Within a colum values are of the same type, but types can differ between columns."
   ]
  },
  {
   "cell_type": "markdown",
   "id": "3420aeb0",
   "metadata": {},
   "source": [
    "### Some basics"
   ]
  },
  {
   "cell_type": "code",
   "execution_count": null,
   "id": "5cf6226c",
   "metadata": {},
   "outputs": [],
   "source": [
    "# show content of csv file\n",
    "print(open(\"data/example.csv\").read())"
   ]
  },
  {
   "cell_type": "code",
   "execution_count": null,
   "id": "31f0339d",
   "metadata": {},
   "outputs": [],
   "source": [
    "# read file with pandas\n",
    "\n",
    "import pandas as pd\n",
    "\n",
    "df = pd.read_csv(\"data/example.csv\")\n",
    "print(df)"
   ]
  },
  {
   "cell_type": "markdown",
   "id": "c4e07518",
   "metadata": {},
   "source": [
    "<div class=\"alert alert-block alert-info\">\n",
    "<i class=\"fa fa-warning\"></i>&nbsp;<code>pandas</code> also \n",
    "supports reading and writing of other file formats, like <code>.xlsx</code>, <code>.hdf5</code> or <code>sqlite3</code> files.\n",
    "</div>\n",
    "\n",
    "\n",
    "\n"
   ]
  },
  {
   "cell_type": "code",
   "execution_count": null,
   "id": "df6d5d16",
   "metadata": {},
   "outputs": [],
   "source": [
    "df.info()"
   ]
  },
  {
   "cell_type": "markdown",
   "id": "c7f9dabf",
   "metadata": {},
   "source": [
    "You can see that the colums `a`, `b` and `c` have different types `int64`, `float64` and `object`. The latter can be read as \"anything but a number\"."
   ]
  },
  {
   "cell_type": "code",
   "execution_count": null,
   "id": "7315eba9",
   "metadata": {},
   "outputs": [],
   "source": [
    "# number of rows and columns\n",
    "print(df.shape)"
   ]
  },
  {
   "cell_type": "markdown",
   "id": "c1640828",
   "metadata": {},
   "source": [
    "The `.shape` is numbers of rows times number of columns."
   ]
  },
  {
   "cell_type": "markdown",
   "id": "4baff009",
   "metadata": {},
   "source": [
    "To show the first 5 rows of a data frame we can use `.head()`."
   ]
  },
  {
   "cell_type": "code",
   "execution_count": null,
   "id": "24efd2a3",
   "metadata": {},
   "outputs": [],
   "source": [
    "print(df.head())"
   ]
  },
  {
   "cell_type": "markdown",
   "id": "93d8d2f9",
   "metadata": {},
   "source": [
    "And `.tail()` shows the last 5 rows:"
   ]
  },
  {
   "cell_type": "code",
   "execution_count": null,
   "id": "f02eb839",
   "metadata": {},
   "outputs": [],
   "source": [
    "print(df.tail())"
   ]
  },
  {
   "cell_type": "markdown",
   "id": "9c95c1d2",
   "metadata": {},
   "source": [
    "Both accept an integer to change the number of rows to show:"
   ]
  },
  {
   "cell_type": "code",
   "execution_count": null,
   "id": "64517a53",
   "metadata": {},
   "outputs": [],
   "source": [
    "print(df.head(3))"
   ]
  },
  {
   "cell_type": "markdown",
   "id": "2662d7ce",
   "metadata": {},
   "source": [
    "Compute some statistics on the columns"
   ]
  },
  {
   "cell_type": "code",
   "execution_count": null,
   "id": "56872e03",
   "metadata": {},
   "outputs": [],
   "source": [
    "print(df.describe())"
   ]
  },
  {
   "cell_type": "markdown",
   "id": "ab5bb5a9",
   "metadata": {},
   "source": [
    "###  Accessing parts of a data frame"
   ]
  },
  {
   "cell_type": "markdown",
   "id": "2af1aafc",
   "metadata": {},
   "source": [
    "We can access separate columns using a column name:"
   ]
  },
  {
   "cell_type": "code",
   "execution_count": null,
   "id": "37f08650",
   "metadata": {},
   "outputs": [],
   "source": [
    "print(df[\"a\"])"
   ]
  },
  {
   "cell_type": "markdown",
   "id": "2f66d1e9",
   "metadata": {},
   "source": [
    "Single columns are `Series` in `pandas`:"
   ]
  },
  {
   "cell_type": "code",
   "execution_count": null,
   "id": "ac3da369",
   "metadata": {},
   "outputs": [],
   "source": [
    "print(type(df[\"a\"]))"
   ]
  },
  {
   "cell_type": "code",
   "execution_count": null,
   "id": "a394e434",
   "metadata": {},
   "outputs": [],
   "source": [
    "scores = df[\"a\"] + 2 * df[\"b\"]\n",
    "print(scores)"
   ]
  },
  {
   "cell_type": "markdown",
   "id": "d5fe6128",
   "metadata": {},
   "source": [
    "<div class=\"alert alert-block alert-warning\">\n",
    "<i class=\"fa fa-warning\"></i>&nbsp;Don't forget that\n",
    "    <ul>\n",
    "        <li> Indexing in Python starts with <code>0</code>\n",
    "        </li>\n",
    "        <li> Upper limits are exclusive\n",
    "            </li>\n",
    "        <li> Negative indices start from the right end, <code>-1</code> is the last element, <code>-2</code> the one before, etc.</li>\n",
    "        <li> <code>:</code> refers to all elements.</li>\n",
    "    </ul>\n",
    "</div>\n",
    "\n",
    "\n"
   ]
  },
  {
   "cell_type": "markdown",
   "id": "41da8541",
   "metadata": {},
   "source": [
    "`df.iloc[row_slice, col_slice]` offers index based access:"
   ]
  },
  {
   "cell_type": "code",
   "execution_count": null,
   "id": "bd23837e",
   "metadata": {},
   "outputs": [],
   "source": [
    "print(df.iloc[:, 0])"
   ]
  },
  {
   "cell_type": "markdown",
   "id": "232105a4",
   "metadata": {},
   "source": [
    "\n",
    "\n",
    "To extract rows `1` to `2` (included), and all columns up to the last one:"
   ]
  },
  {
   "cell_type": "code",
   "execution_count": null,
   "id": "e43f672b",
   "metadata": {},
   "outputs": [],
   "source": [
    "print(df.iloc[1:3, :-1])"
   ]
  },
  {
   "cell_type": "markdown",
   "id": "71378f0b",
   "metadata": {},
   "source": [
    "To extract the last column:"
   ]
  },
  {
   "cell_type": "code",
   "execution_count": null,
   "id": "b936698f",
   "metadata": {},
   "outputs": [],
   "source": [
    "print(df.iloc[1:3, -1])"
   ]
  },
  {
   "cell_type": "markdown",
   "id": "01f8037d",
   "metadata": {},
   "source": [
    "### Filtering a data frame"
   ]
  },
  {
   "cell_type": "code",
   "execution_count": null,
   "id": "b497cb09",
   "metadata": {},
   "outputs": [],
   "source": [
    "# all rows where the value of a is smaller than 10:\n",
    "print(df[df[\"a\"] < 10])"
   ]
  },
  {
   "cell_type": "markdown",
   "id": "55ecf121",
   "metadata": {},
   "source": [
    "This works as follows:"
   ]
  },
  {
   "cell_type": "code",
   "execution_count": null,
   "id": "62d3c7c4",
   "metadata": {},
   "outputs": [],
   "source": [
    "flags = df[\"a\"] > 3\n",
    "\n",
    "# we see that flags is a vector with logical values depending on\n",
    "# the given condition \"a > 3\":\n",
    "print(flags)"
   ]
  },
  {
   "cell_type": "code",
   "execution_count": null,
   "id": "05b09f88",
   "metadata": {},
   "outputs": [],
   "source": [
    "# when we pass these logical values to \"df[...]\" only the \"True rows\"\n",
    "# remain:\n",
    "print(df[flags])"
   ]
  },
  {
   "cell_type": "markdown",
   "id": "284f77b9",
   "metadata": {},
   "source": [
    "Another example:"
   ]
  },
  {
   "cell_type": "code",
   "execution_count": null,
   "id": "5898501a",
   "metadata": {},
   "outputs": [],
   "source": [
    "print(df[df[\"c\"] == \"one\"])"
   ]
  },
  {
   "cell_type": "markdown",
   "id": "769bb0b0",
   "metadata": {},
   "source": [
    "### Extending a dataframe\n",
    "\n",
    "Adding a new, computed column:"
   ]
  },
  {
   "cell_type": "code",
   "execution_count": null,
   "id": "fb343d49",
   "metadata": {},
   "outputs": [],
   "source": [
    "# values in new column d will be values from \"a\" squared:\n",
    "df[\"d\"] = df[\"a\"] ** 2\n",
    "\n",
    "print(df.head())"
   ]
  },
  {
   "cell_type": "markdown",
   "id": "d3bb27e1",
   "metadata": {},
   "source": [
    "We can also overwrite a column, here we use `apply` to apply the same function on all values in the given column:"
   ]
  },
  {
   "cell_type": "code",
   "execution_count": null,
   "id": "43a3fa46",
   "metadata": {},
   "outputs": [],
   "source": [
    "def increment(v):\n",
    "    return v + 1\n",
    "\n",
    "\n",
    "df[\"d\"] = df[\"d\"].apply(increment)\n",
    "\n",
    "print(df.head())"
   ]
  },
  {
   "cell_type": "markdown",
   "id": "71d2fce8",
   "metadata": {},
   "source": [
    "## numpy\n",
    "\n",
    "`numpy` offers data structures from linear algebra, e.g. vectors and matrices. \n",
    "\n",
    "In contrast to `pd.DataFrame` matrices contain numbers of the same type."
   ]
  },
  {
   "cell_type": "code",
   "execution_count": null,
   "id": "94a7fa4c",
   "metadata": {},
   "outputs": [],
   "source": [
    "import numpy as np\n",
    "\n",
    "x = np.array([3.0, 5.0, 8.0])\n",
    "print(x)"
   ]
  },
  {
   "cell_type": "code",
   "execution_count": null,
   "id": "b02e5ac8",
   "metadata": {},
   "outputs": [],
   "source": [
    "print(x.shape)"
   ]
  },
  {
   "cell_type": "code",
   "execution_count": null,
   "id": "1e24081c",
   "metadata": {},
   "outputs": [],
   "source": [
    "A = np.array(\n",
    "    [\n",
    "        [1.0, 2.0, 3.0],\n",
    "        [3.0, 4.0, 5.0],\n",
    "        [3.0, 5.0, 3.0],\n",
    "    ]\n",
    ")\n",
    "print(A)"
   ]
  },
  {
   "cell_type": "code",
   "execution_count": null,
   "id": "653fddb6",
   "metadata": {},
   "outputs": [],
   "source": [
    "print(A.shape)"
   ]
  },
  {
   "cell_type": "markdown",
   "id": "61cbb9b7",
   "metadata": {},
   "source": [
    "Indexed access works as usual:"
   ]
  },
  {
   "cell_type": "code",
   "execution_count": null,
   "id": "7258d1ec",
   "metadata": {},
   "outputs": [],
   "source": [
    "print(x[0])\n",
    "print(x[-1])\n",
    "print(x[1:])"
   ]
  },
  {
   "cell_type": "code",
   "execution_count": null,
   "id": "e8140a9f",
   "metadata": {},
   "outputs": [],
   "source": [
    "print(A[1, 0])\n",
    "print(A[:, 1])"
   ]
  },
  {
   "cell_type": "markdown",
   "id": "ce9ee3be",
   "metadata": {},
   "source": [
    "Numpy offers element-wise function application:"
   ]
  },
  {
   "cell_type": "code",
   "execution_count": null,
   "id": "67aa64d6",
   "metadata": {},
   "outputs": [],
   "source": [
    "# caveat ! not matrix-matrix multiplication\n",
    "print(A * A)"
   ]
  },
  {
   "cell_type": "code",
   "execution_count": null,
   "id": "9085132e",
   "metadata": {},
   "outputs": [],
   "source": [
    "# this is matrix-matrix multiplication:\n",
    "print(A @ A)"
   ]
  },
  {
   "cell_type": "code",
   "execution_count": null,
   "id": "79f1dd21",
   "metadata": {},
   "outputs": [],
   "source": [
    "# substract 3 from all elements:\n",
    "print(A - 3)"
   ]
  },
  {
   "cell_type": "code",
   "execution_count": null,
   "id": "784947d3",
   "metadata": {},
   "outputs": [],
   "source": [
    "# subtract 3 from all elements, then compute absolute\n",
    "# values for every element:\n",
    "print(np.abs(A - 3))"
   ]
  },
  {
   "cell_type": "code",
   "execution_count": null,
   "id": "893789a6",
   "metadata": {},
   "outputs": [],
   "source": [
    "x = np.linspace(0, 8, 11)\n",
    "print(x)\n",
    "print(len(x))"
   ]
  },
  {
   "cell_type": "code",
   "execution_count": null,
   "id": "e1fccdd7",
   "metadata": {},
   "outputs": [],
   "source": [
    "# we can also filter values:\n",
    "print(x[x < 2])"
   ]
  },
  {
   "cell_type": "markdown",
   "id": "ef3d9cb2",
   "metadata": {},
   "source": [
    "In computations like addition `True` is handled as `1` and `False` as `0`. "
   ]
  },
  {
   "cell_type": "code",
   "execution_count": null,
   "id": "d0e9e84a",
   "metadata": {},
   "outputs": [],
   "source": [
    "p = np.sum(x < 2)\n",
    "print(p)\n",
    "print(p / len(x) * 100, \"percent of entries in x are smaller than 2\")"
   ]
  },
  {
   "cell_type": "markdown",
   "id": "bcc66f25",
   "metadata": {},
   "source": [
    "## About plotting\n",
    "\n",
    "We use `matplotlib` and also `seaborn` in the script. `seaboarn` is a layer ontop of `matplotlib` offering some easy-to-use standard plots and also a more modern layout and styling."
   ]
  },
  {
   "cell_type": "code",
   "execution_count": null,
   "id": "946c7af3",
   "metadata": {},
   "outputs": [],
   "source": [
    "import matplotlib.pyplot as plt\n",
    "\n",
    "x = np.linspace(1, 4, 4)\n",
    "y0 = np.mod(x, 2)\n",
    "y1 = 2 * (1 - y0)\n",
    "y2 = np.sqrt(x)\n",
    "\n",
    "plt.plot(x, y0)  # default color is blue\n",
    "plt.plot(x, y1, color=\"chocolate\", marker=\"o\")\n",
    "\n",
    "# no lines, marker size is 150:\n",
    "plt.scatter(x, y2, color=\"steelblue\", marker=\"*\", s=150);"
   ]
  },
  {
   "cell_type": "code",
   "execution_count": null,
   "id": "ca146f52",
   "metadata": {},
   "outputs": [],
   "source": [
    "plt.plot(x, y0, label=\"one\")\n",
    "plt.plot(x, y1, color=\"chocolate\", marker=\"o\", label=\"two\")\n",
    "\n",
    "# no lines, marker size is 150:\n",
    "plt.scatter(x, y2, color=\"steelblue\", marker=\"*\", s=150, label=\"three\")\n",
    "\n",
    "plt.legend()\n",
    "plt.title(\"with legend\");"
   ]
  },
  {
   "cell_type": "markdown",
   "id": "cc5ec1f4",
   "metadata": {},
   "source": [
    "After `plt.subplot(m, n, i)` the following plot will paint into cell `i` in a `m` times `n` grid of plots. `m` is the number of rows, `n` is the number of columns and `i` is counted row wise:"
   ]
  },
  {
   "cell_type": "code",
   "execution_count": null,
   "id": "e6b43e3d",
   "metadata": {},
   "outputs": [],
   "source": [
    "# multiple plots\n",
    "\n",
    "plt.figure(figsize=(12, 7))  # width, height\n",
    "\n",
    "plt.subplot(2, 3, 1)\n",
    "plt.plot(x, y0)\n",
    "plt.plot(x, y1)\n",
    "plt.title(\"plt.subplot(2, 3, 1)\")\n",
    "\n",
    "plt.subplot(2, 3, 2)\n",
    "plt.plot(x, y1, \"chocolate\")\n",
    "plt.title(\"plt.subplot(2, 3, 2)\")\n",
    "\n",
    "plt.subplot(2, 3, 3)\n",
    "plt.plot(x, y2, \"steelblue\")\n",
    "plt.title(\"plt.subplot(2, 3, 3)\")\n",
    "\n",
    "plt.subplot(2, 3, 4)\n",
    "plt.plot(x, y1, \":\")\n",
    "plt.title(\"plt.subplot(2, 3, 4)\")\n",
    "\n",
    "plt.subplot(2, 3, 5)\n",
    "plt.plot(x, y2, \"*\")\n",
    "plt.title(\"plt.subplot(2, 3, 5)\")\n",
    "\n",
    "plt.subplot(2, 3, 6)\n",
    "plt.plot(x, y0, \"chocolate\")\n",
    "plt.title(\"plt.subplot(2, 3, 6)\");"
   ]
  },
  {
   "cell_type": "code",
   "execution_count": null,
   "id": "4f705746",
   "metadata": {},
   "outputs": [],
   "source": [
    "x = np.linspace(0, 2 * np.pi, 200)\n",
    "y = np.sin(x)\n",
    "z = np.cos(x**2)\n",
    "\n",
    "plt.plot(x, y, \"chocolate\")\n",
    "plt.plot(x, z, \"steelblue\");"
   ]
  },
  {
   "cell_type": "markdown",
   "id": "a0abb55d",
   "metadata": {},
   "source": [
    "# Exercise section\n",
    "\n",
    "1. Repeat the examples above and play with them\n",
    "\n",
    "# * Optional Exercse\n",
    "\n",
    "2. Can you plot a circle by computing `x` and `y` vectors suitable for `plt.plot` ? Make sure that the circle looks like a circle and not like an ellipse.\n",
    "\n",
    "3. Plot three cricles with different radii and different colors, create labels and plot a legend. Make sure that the legend shows up in the top-right corner and does not overlap with the circles.\n",
    "\n",
    "4. Plot the three circles in 3 different plots in one row using `plt.subplot`.\n"
   ]
  },
  {
   "cell_type": "code",
   "execution_count": null,
   "id": "2147002a",
   "metadata": {},
   "outputs": [],
   "source": []
  }
 ],
 "metadata": {},
 "nbformat": 4,
 "nbformat_minor": 5
}
