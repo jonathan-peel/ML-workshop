{
 "cells": [
  {
   "cell_type": "code",
   "execution_count": null,
   "metadata": {},
   "outputs": [],
   "source": [
    "# IGNORE THIS CELL WHICH CUSTOMIZES LAYOUT AND STYLING OF THE NOTEBOOK !\n",
    "%matplotlib inline\n",
    "%config InlineBackend.figure_format = 'retina'\n",
    "import warnings\n",
    "\n",
    "import matplotlib.pyplot as plt\n",
    "\n",
    "warnings.filterwarnings(\"ignore\", category=FutureWarning)\n",
    "warnings.filterwarnings(\n",
    "    \"ignore\",\n",
    "    message=\"X does not have valid feature names, but [a-zA-Z]+ was fitted with feature names\",\n",
    "    category=UserWarning,\n",
    ")\n",
    "\n",
    "warnings.filterwarnings = lambda *a, **kw: None\n",
    "from IPython.core.display import HTML\n",
    "\n",
    "HTML(open(\"custom.html\", \"r\").read())"
   ]
  },
  {
   "cell_type": "markdown",
   "metadata": {},
   "source": [
    "# Chapter 1: General Introduction to machine learning (ML)"
   ]
  },
  {
   "cell_type": "markdown",
   "metadata": {},
   "source": [
    "## ML = \"learning models from data\"\n",
    "\n",
    "\n",
    "### About models\n",
    "\n",
    "A \"model\" allows us to explain observations and to answer questions. For example:\n",
    "\n",
    "   1. Where will my car at given velocity stop if I apply break now?\n",
    "   2. Where on the night sky will I see the moon tonight?\n",
    "   3. Is the email I received spam?\n",
    "   4. What product should I recommend my customer `X` ?\n",
    "   \n",
    "- The first two questions can be answered based on existing physical models (formulas). \n",
    "\n",
    "- For the  questions 3 and 4 it is difficult to develop explicitly formulated models. \n",
    "\n",
    "### What is needed to apply ML ?\n",
    "\n",
    "\n",
    "- We have no explicit formula for such a task.\n",
    "\n",
    "- We have a vague understanding of the problem domain, e.g. we know that some words are specific to spam emails and others are specific to my personal and work-related emails.\n",
    "\n",
    "- We have enough example data, as my mailbox is full of both spam and non-spam emails.\n",
    "\n",
    "\n",
    "We could handcraft a personal spam classifier by hard coding rules, like \"mail contains 'no prescription'\" or other key expressions plus some statistics. This would be very tedious.\n",
    "\n",
    "<div class=\"alert alert-block alert-info\">\n",
    "<i class=\"fa fa-info-circle\"></i>\n",
    "    Systems with such hard coded rules are called <strong>expert systems</strong>\n",
    "</div>\n",
    "\n",
    "In such cases machine learning is a better approach.\n",
    "\n",
    "<div class=\"alert alert-block alert-warning\">\n",
    "<i class=\"fa fa-info-circle\"></i>\n",
    "<strong>Machine learning</strong> offers approaches to automatically build predictive models based on example data.\n",
    "</div>\n",
    "\n",
    "<div class=\"alert alert-block alert-info\">\n",
    "<i class=\"fa fa-info-circle\"></i>\n",
    "The closely-related concept of <strong>data mining</strong> usually means use of predictive machine learning models to explicitly discover previously unknown knowledge from a specific data set, such as, for instance, association rules between customer and article types in the Problem 4 above.\n",
    "</div>\n",
    "\n",
    "\n",
    "\n",
    "## ML: what is \"learning\" ?\n",
    "\n",
    "To create a predictive model, we must first **train** such a model on given data. \n",
    "\n",
    "<div class=\"alert alert-block alert-info\">\n",
    "<i class=\"fa fa-info-circle\"></i>\n",
    "Alternative names for \"to train\" a model are \"to <strong>fit</strong>\" or \"to <strong>learn</strong>\" a model.\n",
    "</div>\n",
    "\n",
    "\n",
    "All ML algorithms have in common that they rely on internal data structures and/or parameters.\n",
    "\n",
    "<div class=\"alert alert-block alert-warning\">\n",
    "<i class=\"fa fa-info-circle\"></i>\n",
    "<strong>Learning</strong> builds up internal data structures or adjusts parameters of a ML method, based on the given data.\n",
    "</div>\n",
    "\n",
    "After ML method has learned the data, it can be used to explain observations or to answer questions.\n",
    "\n",
    "The important difference between explicit models and models learned from data:\n",
    "\n",
    "- Explicit models usually offer exact answers to questions, whereas\n",
    "- Models that learn from data usually come with inherent uncertainty.\n",
    "\n",
    "\n",
    "## Parameters / hyperparameters\n",
    "\n",
    "A machine-learning algorithm usually adapts *(internal) parameters* to the training data set during learning. But the working of such algorithms can also be adjusted by changing the so-called *hyperparameters*. To summarize:\n",
    "\n",
    "- *parameters* are what an ML algorithm learns from training data.\n",
    "- *hyper parameters* control **how** an ML algorithm learns."
   ]
  },
  {
   "cell_type": "markdown",
   "metadata": {},
   "source": [
    "\n",
    "## Some history\n",
    "\n",
    "Some parts of ML are older than you might think. This is a rough time line with a few selected achievements from this field:\n",
    "\n",
    "    1805: Least squares regression\n",
    "    1812: Bayes' rule\n",
    "    1913: Markov Chains\n",
    "\n",
    "    1951: First neural network\n",
    "    1957-65: \"k-means\" clustering algorithm\n",
    "    1959: Term \"machine learning\" is coined by Arthur Samuel, an AI pioneer\n",
    "    1969: Book \"Perceptrons\": Limitations of Neural Networks\n",
    "    1974-86: Neural networks learning breakthrough: backpropagation method\n",
    "    \n",
    "    1984: Book \"Classification And Regression Trees\"\n",
    "    1995: Randomized Forests and Support Vector Machines methods\n",
    "    1998: Public appearance: first ML implementations of spam filtering methods; naive Bayes Classifier method\n",
    "    2006-12: Neural networks learning breakthrough: deep learning\n",
    "    \n",
    "So the field is not as new as one might think, but due to \n",
    "\n",
    "- more available data\n",
    "- more processing power \n",
    "- development of better algorithms \n",
    "\n",
    "more applications of machine learning appeared during the last 15 years."
   ]
  },
  {
   "cell_type": "markdown",
   "metadata": {},
   "source": [
    "## Machine learning with Python\n",
    "\n",
    "Currently (as of 2019) `Python` is the  dominant programming language for ML. Especially the advent of deep-learning pushed this forward. First versions of frameworks such as `TensorFlow` or `PyTorch` got early `Python` releases.\n",
    "\n",
    "The prevalent packages in the Python eco-system used for ML include:\n",
    "\n",
    "- `pandas` for handling tabular data\n",
    "- `matplotlib` and `seaborn` for plotting\n",
    "- `scikit-learn` for classical (non-deep-learning) ML\n",
    "- `TensorFlow`, `PyTorch` and `Keras` for deep-learning.\n",
    "\n",
    "`scikit-learn` is very comprehensive and the online-documentation itself provides a good introducion into ML."
   ]
  },
  {
   "cell_type": "markdown",
   "metadata": {},
   "source": [
    "## ML lingo: What are \"features\" ?\n",
    "\n",
    "A typical and very common situation is that our data is presented as a table, as in the following example:"
   ]
  },
  {
   "cell_type": "code",
   "execution_count": null,
   "metadata": {},
   "outputs": [],
   "source": [
    "import pandas as pd\n",
    "\n",
    "features = pd.read_csv(\"data/beers.csv\")\n",
    "features.head()"
   ]
  },
  {
   "cell_type": "markdown",
   "metadata": {},
   "source": [
    "<div class=\"alert alert-block alert-warning\">\n",
    "<i class=\"fa fa-warning\"></i>&nbsp;<strong>Definitions</strong>\n",
    "<ul>\n",
    "    <li>every row of such a matrix is called a <strong>sample</strong> or <strong>feature vector</strong>;</li>\n",
    "    <li>the cells in a row are <strong>feature values</strong>;</li>\n",
    "    <li>every column name is called a <strong>feature name</strong> or <strong>attribute</strong>.</li>\n",
    "</ul>\n",
    "\n",
    "Features are also commonly called <strong>variables</strong>.\n",
    "</div>"
   ]
  },
  {
   "cell_type": "markdown",
   "metadata": {},
   "source": [
    "This table shown holds five samples.\n",
    "\n",
    "The feature names are `alcohol_content`, `bitterness`, `darkness`, `fruitiness` and `is_yummy`.\n",
    "\n",
    "<div class=\"alert alert-block alert-warning\">\n",
    "<i class=\"fa fa-warning\"></i>&nbsp;<strong>More definitions</strong>\n",
    "<ul>\n",
    "    <li>The first four features have continuous numerical values within some ranges - these are called <strong>numerical features</strong>,</li>\n",
    "    <li>the <code>is_yummy</code> feature has only a finite set of values (\"categories\"): <code>0</code> (\"no\") and <code>1</code> (\"yes\") - this is called a <strong>categorical feature</strong>.</li>\n",
    "</ul>\n",
    "    </div>\n"
   ]
  },
  {
   "cell_type": "markdown",
   "metadata": {},
   "source": [
    "A straight-forward application of machine-learning on the previous beer dataset is: **\"can we predict `is_yummy` from the other features\"** ?\n",
    "\n",
    "<div class=\"alert alert-block alert-warning\">\n",
    "<i class=\"fa fa-warning\"></i>&nbsp;<strong>Even more definitions</strong>\n",
    "\n",
    "In context of the question above we call:\n",
    "<ul>\n",
    "    <li>the <code>alcohol_content</code>, <code>bitterness</code>, <code>darkness</code>, <code>fruitiness</code> features our <strong>input features</strong>, and</li>\n",
    "    <li>the <code>is_yummy</code> feature our <strong>target/output feature</strong> or a <strong>label</strong> of our data samples.\n",
    "        <ul>\n",
    "            <li>Values of categorical labels, such as <code>0</code> (\"no\") and <code>1</code> (\"yes\") here, are often called <strong>classes</strong>.</li>\n",
    "        </ul>\n",
    "    </li>\n",
    "</ul>\n",
    "</div>"
   ]
  },
  {
   "cell_type": "markdown",
   "metadata": {},
   "source": [
    "This is how feature matrices look like in general:\n",
    "\n",
    "<img src=\"images/feature_matrix.png\" width=50%/>"
   ]
  },
  {
   "cell_type": "markdown",
   "metadata": {},
   "source": [
    "### Most of the machine learning algorithms require that every sample is represented as a vector containing numbers. \n",
    "\n",
    "Let's look now at two examples of how one can create feature vectors from data which is not naturally given as vectors:\n",
    "\n",
    "1. Feature vectors from images\n",
    "2. Feature vectors from text.\n",
    "\n",
    "### 1st Example: How to represent images as feature vectors?\n",
    "\n",
    "In order to simplify our explanations we only consider grayscale images in this section. \n",
    "Computers represent images as matrices. Every cell in the matrix represents one pixel, and the numerical value in the matrix cell its gray value.\n",
    "\n",
    "So how can we represent images as vectors?\n",
    "\n",
    "To demonstrate this we will now load a sample dataset that is included in `scikit-learn`:"
   ]
  },
  {
   "cell_type": "code",
   "execution_count": null,
   "metadata": {},
   "outputs": [],
   "source": [
    "from sklearn.datasets import load_digits\n",
    "\n",
    "dd = load_digits()"
   ]
  },
  {
   "cell_type": "code",
   "execution_count": null,
   "metadata": {},
   "outputs": [],
   "source": [
    "print(dd.DESCR)"
   ]
  },
  {
   "cell_type": "markdown",
   "metadata": {},
   "source": [
    "Let's plot the first ten digits from this data set:"
   ]
  },
  {
   "cell_type": "code",
   "execution_count": null,
   "metadata": {},
   "outputs": [],
   "source": [
    "import matplotlib.pyplot as plt\n",
    "\n",
    "N = 10\n",
    "\n",
    "plt.figure(figsize=(2 * N, 5))\n",
    "\n",
    "# dd.images:  list of 8 x 8 images\n",
    "# dd.target:  label\n",
    "\n",
    "for i, image in enumerate(dd.images[:N]):\n",
    "    plt.subplot(1, N, i + 1).set_title(dd.target[i])\n",
    "    plt.imshow(image, cmap=\"gray\")"
   ]
  },
  {
   "cell_type": "markdown",
   "metadata": {},
   "source": [
    "The data is a set of 8 x 8 matrices with values 0 to 15 (black to white). The range 0 to 15 is fixed for this specific data set. Other formats allow e.g. values 0..255 or floating point values in the range 0 to 1."
   ]
  },
  {
   "cell_type": "code",
   "execution_count": null,
   "metadata": {},
   "outputs": [],
   "source": [
    "dd.target"
   ]
  },
  {
   "cell_type": "code",
   "execution_count": null,
   "metadata": {},
   "outputs": [],
   "source": [
    "print(\"images[0].shape:\", dd.images[0].shape)  # dimensions of a first sample array\n",
    "print()\n",
    "print(\"images[0]:\\n\", dd.images[0])  # first sample array"
   ]
  },
  {
   "cell_type": "markdown",
   "metadata": {},
   "source": [
    "To transform such an image to a feature vector we just have to flatten the matrix by concatenating the rows to one single vector of size 64:"
   ]
  },
  {
   "cell_type": "code",
   "execution_count": null,
   "metadata": {},
   "outputs": [],
   "source": [
    "image_vector = dd.images[0].flatten()\n",
    "print(\"image_vector.shape:\", image_vector.shape)\n",
    "print(\"image_vector:\", image_vector)"
   ]
  },
  {
   "cell_type": "markdown",
   "metadata": {},
   "source": [
    "<br/>\n",
    "\n",
    "This is how the final feature matrix then looks like:\n",
    "\n",
    "<img src=\"images/feature_matrix_mnist.png\" width=50%/>"
   ]
  },
  {
   "cell_type": "markdown",
   "metadata": {},
   "source": [
    "### 2nd Example: How to present textual data as feature vectors?"
   ]
  },
  {
   "cell_type": "markdown",
   "metadata": {},
   "source": [
    "- If we start a machine learning project for texts, we first have to choose a dictionary (a set of words) for this project. \n",
    "- The words in the dictionary are numbered / have an index. \n",
    "- The final representation of a text as a feature vector depends on this dictionary.\n",
    "\n",
    "Such a dictionary can be very large, but for the sake of simplicity we use a very small enumerated dictionary to explain the overall procedure:\n",
    "\n",
    "\n",
    "| Word     | Index |\n",
    "|----------|-------|\n",
    "| like     | 0     |\n",
    "| dislike  | 1     |\n",
    "| american | 2     |\n",
    "| italian  | 3     |\n",
    "| beer     | 4     |\n",
    "| pizza    | 5     |\n",
    "\n",
    "To \"vectorize\" a given text we count the words in the text which also exist in the vocabulary and put the counts at the given `Index`.\n",
    "\n",
    "E.g. `\"I dislike american pizza, but american beer is nice\"`:\n",
    "\n",
    "| Word     | Index | Count |\n",
    "|----------|-------|-------|\n",
    "| like     | 0     | 0     |\n",
    "| dislike  | 1     | 1     |\n",
    "| american | 2     | 2     |\n",
    "| italian  | 3     | 0     |\n",
    "| beer     | 4     | 1     |\n",
    "| pizza    | 5     | 1     |\n",
    "\n",
    "The respective feature vector is the `Count` column, which is:\n",
    "\n",
    "`[0, 1, 2, 0, 1, 1]`\n",
    "\n",
    "In real case scenarios the dictionary is much bigger, which often results in vectors with only few non-zero entries (so called **sparse vectors**)."
   ]
  },
  {
   "cell_type": "markdown",
   "metadata": {},
   "source": [
    "Below you find is a short code example to demonstrate how text feature vectors can be created with `scikit-learn`.\n",
    "<div class=\"alert alert-block alert-info\">\n",
    "<i class=\"fa fa-info-circle\"></i>\n",
    "Such vectorization is usually not done manually. Actually there are improved but more complicated procedures which compute multiplicative weights for the vector entries to emphasize informative words such as, e.g., <a href=\"https://scikit-learn.org/stable/modules/generated/sklearn.feature_extraction.text.TfidfVectorizer.html\">\"term frequency-inverse document frequency\" vectorizer</a>.\n",
    "</div>"
   ]
  },
  {
   "cell_type": "code",
   "execution_count": null,
   "metadata": {},
   "outputs": [],
   "source": [
    "from sklearn.feature_extraction.text import CountVectorizer\n",
    "\n",
    "vocabulary = {\n",
    "    \"like\": 0,\n",
    "    \"dislike\": 1,\n",
    "    \"american\": 2,\n",
    "    \"italian\": 3,\n",
    "    \"beer\": 4,\n",
    "    \"pizza\": 5,\n",
    "}\n",
    "\n",
    "vectorizer = CountVectorizer(vocabulary=vocabulary)\n",
    "\n",
    "# this how one can create a count vector for a given piece of text:\n",
    "vector = (\n",
    "    vectorizer.fit_transform([\"I dislike american pizza. But american beer is nice\"])\n",
    "    .toarray()\n",
    "    .flatten()\n",
    ")\n",
    "print(vector)"
   ]
  },
  {
   "cell_type": "markdown",
   "metadata": {},
   "source": [
    "<br/>\n",
    "The corresponding feautre matrix then has the form:\n",
    "<img src=\"images/feature_matrix_document.png\" width=70% />"
   ]
  },
  {
   "cell_type": "markdown",
   "metadata": {},
   "source": [
    "## Taxonomy of machine learning\n",
    "\n",
    "Most applications of ML belong to two categories: **supervised** and **unsupervised** learning.\n",
    "\n",
    "### Supervised learning \n",
    "\n",
    "In supervised learning the data comes with an additional target/label value that we want to predict. Such a problem can be either \n",
    "\n",
    "- **classification**: we want to predict a categorical value.\n",
    "    \n",
    "- **regression**: we want to predict numbers in a given range.\n",
    "    \n",
    "  \n",
    "\n",
    "Examples of supervised learning:\n",
    "\n",
    "- Classification: predict the class `is_yummy`  based on the attributes `alcohol_content`,\t`bitterness`, \t`darkness` and `fruitiness` (a standard two-class problem).\n",
    "\n",
    "- Classification: predict the digit-shown based on a 8 x 8 pixel image (a multi-class problem).\n",
    "\n",
    "- Regression: predict temperature based on how long sun was shining in the last 10 minutes.\n",
    "\n",
    "\n",
    "\n",
    "<table>\n",
    "    <tr>\n",
    "    <td><img src=\"./images/classification-svc-2d-poly.png\" width=400px></td>\n",
    "    <td><img src=\"./images/regression-lin-1d.png\" width=400px></td>\n",
    "    </tr>\n",
    "    <tr>\n",
    "        <td><center>Classification</center></td>\n",
    "        <td><center>Linear regression</center></td>\n",
    "    </tr>\n",
    "</table>\n"
   ]
  },
  {
   "cell_type": "markdown",
   "metadata": {},
   "source": [
    "### Unsupervised learning \n",
    "\n",
    "In unsupervised learning the training data consists of samples without any corresponding target/label values and the aim is to find structure in data. Some common applications are:\n",
    "\n",
    "- Clustering: find groups in data.\n",
    "- Density estimation, novelty detection: find a probability distribution in your data.\n",
    "- Dimension reduction (e.g. PCA): find latent structures in your data.\n",
    "\n",
    "Examples of unsupervised learning:\n",
    "\n",
    "- Can we split up our beer data set into sub-groups of similar beers?\n",
    "- Can we reduce our data set because groups of features are somehow correlated?\n",
    "\n",
    "<table>\n",
    "    <tr>\n",
    "    <td><img src=\"./images/cluster-image.png/\" width=400px></td>\n",
    "    <td><img src=\"./images/nonlin-pca.png/\" width=400px></td>\n",
    "    </tr>\n",
    "    <tr>\n",
    "        <td><center>Clustering</center></td>\n",
    "        <td><center>Dimension reduction: detecting 2D structure in 3D data</center></td>\n",
    "    </tr>\n",
    "</table>\n",
    "\n",
    "\n",
    "\n",
    "This course will only introduce concepts and methods from **supervised learning**."
   ]
  },
  {
   "cell_type": "markdown",
   "metadata": {},
   "source": [
    "## How to apply machine learning in practice?\n",
    "\n",
    "Application of machine learning in practice consists of several phases:\n",
    "\n",
    "1. Understand and clean your data\n",
    "1. Learn / train a model \n",
    "2. Analyze model for its quality / performance\n",
    "2. Apply this model to new incoming data\n",
    "\n",
    "In practice steps 1. and 2. are iterated for different machine learning algorithms with different configurations until performance is optimal or sufficient. \n",
    "\n",
    "\n",
    "<div class=\"alert alert-block alert-warning\">\n",
    "<i class=\"fa fa-warning\"></i>&nbsp;<strong>Garbage in / garbage out</strong>\n",
    "\n",
    "The principle of \"garbage in, garbage out\" also applies in machine learning.\n",
    "\n",
    "Cleaning data to remove strong outliers or erroneous entries is crucial in real-world problems and  can be the most time-consuming part.\n",
    "\n",
    "</div>"
   ]
  },
  {
   "cell_type": "markdown",
   "metadata": {},
   "source": [
    "# Hands-on section\n",
    "\n",
    "<img src=\"./images/303yin.jpg\" width=35%/>"
   ]
  },
  {
   "cell_type": "markdown",
   "metadata": {},
   "source": [
    "Our example beer data set reflects the very personal opinion of one of the tutors which beer he likes and which not. To learn a predictive model and to understand influential factors all beers went through some lab analysis to measure alcohol content, bitterness, darkness and fruitiness."
   ]
  },
  {
   "cell_type": "markdown",
   "metadata": {},
   "source": [
    "### Step 1: Load the data and show the overall structure using `pandas`"
   ]
  },
  {
   "cell_type": "code",
   "execution_count": null,
   "metadata": {},
   "outputs": [],
   "source": [
    "import pandas as pd\n",
    "\n",
    "# read some data\n",
    "beer_data = pd.read_csv(\"data/beers.csv\")\n",
    "print(beer_data.shape)"
   ]
  },
  {
   "cell_type": "code",
   "execution_count": null,
   "metadata": {},
   "outputs": [],
   "source": [
    "# show first 5 rows\n",
    "beer_data.head()"
   ]
  },
  {
   "cell_type": "code",
   "execution_count": null,
   "metadata": {},
   "outputs": [],
   "source": [
    "# show basic statistics of the data\n",
    "beer_data.describe()"
   ]
  },
  {
   "cell_type": "markdown",
   "metadata": {},
   "source": [
    "### Step 2: Visualy inspect data using `seaborn`\n",
    "\n",
    "Such checks are very useful before you start throwning ML on your data. Some vague understanding how features are distributed and correlate can later be very helpfull to optimize performance of ML procedures.\n",
    "\n"
   ]
  },
  {
   "cell_type": "code",
   "execution_count": null,
   "metadata": {},
   "outputs": [],
   "source": [
    "import seaborn as sns\n",
    "\n",
    "sns.set(style=\"ticks\")\n",
    "\n",
    "for_plot = beer_data.copy()\n",
    "\n",
    "\n",
    "def translate_label(value):\n",
    "    # seaborn has issues if labes are numbers or strings which represent numbers,\n",
    "    # for whatever reason \"real\" text labels work\n",
    "    return \"no\" if value == 0 else \"yes\"\n",
    "\n",
    "\n",
    "for_plot[\"is_yummy\"] = for_plot[\"is_yummy\"].apply(translate_label)\n",
    "\n",
    "sns.pairplot(for_plot, hue=\"is_yummy\", diag_kind=\"hist\", diag_kws=dict(alpha=0.5));"
   ]
  },
  {
   "cell_type": "markdown",
   "metadata": {},
   "source": [
    "What do we see?\n",
    "\n",
    "- Points and colors don't look randomly distributed.\n",
    "- We can see that some pairs like `darkness` vs `bitterness` seem to carry information which could support building a classifier.\n",
    "- We also see that `bitterness` and `fruitiness` show correlation.\n",
    "- We see slightly different distributions for features for each class.\n",
    "\n",
    "Features which show no structure can also decrease performance of ML and often it makes sense to discard them.\n"
   ]
  },
  {
   "cell_type": "markdown",
   "metadata": {},
   "source": [
    "### Step 3: Prepare data: split features and labels"
   ]
  },
  {
   "cell_type": "code",
   "execution_count": null,
   "metadata": {},
   "outputs": [],
   "source": [
    "# all columns up to the last one:\n",
    "input_features = beer_data.iloc[:, :-1]\n",
    "\n",
    "# only the last column:\n",
    "labels = beer_data.iloc[:, -1]\n",
    "\n",
    "print(\"# INPUT FEATURES\")\n",
    "print(input_features.head(5))\n",
    "print(\"...\")\n",
    "print(input_features.shape)\n",
    "print()\n",
    "print(\"# LABELS\")\n",
    "print(labels.head(5))\n",
    "print(\"...\")\n",
    "print(labels.shape)"
   ]
  },
  {
   "cell_type": "markdown",
   "metadata": {},
   "source": [
    "### Step 4: Start machine learning using `scikit-learn`"
   ]
  },
  {
   "cell_type": "markdown",
   "metadata": {},
   "source": [
    "Let's finally do some machine learning starting with the so called `LogisticRegression` classifier from `scikit-learn` package. The intention here is to experiment first. Details of this and further ML algorithms are not necessary at this point, but do not worry, they will come later during the course.\n",
    "\n",
    "<div class=\"alert alert-block alert-info\">\n",
    "<i class=\"fa fa-info-circle\"></i>\n",
    "<code>LogisticRegression</code> is a classification method, even so the name contains \"regression\"-as the other group of unsupervised learning methods. In fact, in logistic regression method the (linear) regression is used internally and the result is then transformed (using logistic function) to probability of belonging to one of the two classes.\n",
    "</div>"
   ]
  },
  {
   "cell_type": "code",
   "execution_count": null,
   "metadata": {},
   "outputs": [],
   "source": [
    "from sklearn.linear_model import LogisticRegression\n",
    "\n",
    "classifier = LogisticRegression()\n",
    "classifier"
   ]
  },
  {
   "cell_type": "markdown",
   "metadata": {},
   "source": [
    "<div class=\"alert alert-block alert-warning\">\n",
    "<i class=\"fa fa-warning\"></i>&nbsp;<strong>Built-in documentation</strong>\n",
    "\n",
    "If you want to learn more about <code>LogisticRegression</code> you can use <code>help(LogisticRegression)</code> or <code>?LogisticRegression</code> to see the related documenation. The latter version works only in Jupyter Notebooks (or in IPython shell).\n",
    "</div>"
   ]
  },
  {
   "cell_type": "markdown",
   "metadata": {},
   "source": [
    "<div class=\"alert alert-block alert-warning\">\n",
    "    <i class=\"fa fa-warning\"></i>&nbsp;<strong><code>scikit-learn</code> API</strong>\n",
    "\n",
    "In <code>scikit-learn</code> all classifiers have:\n",
    "<ul>\n",
    "    <li>a <strong><code>fit()</code></strong> method to learn from data, and</li>\n",
    "    <li>and a subsequent <strong><code>predict()</code></strong> method for predicting classes from input features.</li>\n",
    "</ul>\n",
    "</div>"
   ]
  },
  {
   "cell_type": "code",
   "execution_count": null,
   "metadata": {},
   "outputs": [],
   "source": [
    "# Sanity check: can't predict if not fitted (trained)\n",
    "classifier.predict(input_features)"
   ]
  },
  {
   "cell_type": "code",
   "execution_count": null,
   "metadata": {},
   "outputs": [],
   "source": [
    "# Fit\n",
    "classifier.fit(input_features, labels)\n",
    "\n",
    "# Predict\n",
    "predicted_labels = classifier.predict(input_features)\n",
    "print(predicted_labels.shape)"
   ]
  },
  {
   "cell_type": "markdown",
   "metadata": {},
   "source": [
    "Here we've just re-classified our training data. Lets check our result with a few examples:"
   ]
  },
  {
   "cell_type": "code",
   "execution_count": null,
   "metadata": {},
   "outputs": [],
   "source": [
    "for i in range(3):\n",
    "    print(labels[i], \"predicted as\", predicted_labels[i])"
   ]
  },
  {
   "cell_type": "markdown",
   "metadata": {},
   "source": [
    "What, \"0 predicted as 1\"? This looks suspicious!\n",
    "\n",
    "Lets investigate this further:"
   ]
  },
  {
   "cell_type": "code",
   "execution_count": null,
   "metadata": {},
   "outputs": [],
   "source": [
    "print(len(labels), \"examples\")\n",
    "print(sum(predicted_labels == labels), \"labeled correctly\")"
   ]
  },
  {
   "cell_type": "markdown",
   "metadata": {},
   "source": [
    "<div class=\"alert alert-block alert-info\">\n",
    "<i class=\"fa fa-info-circle\"></i>\n",
    "<code>predicted_labels == labels</code> evaluates to a vector of <code>True</code> or <code>False</code> Boolean values. When used as numbers, Python handles <code>True</code> as <code>1</code> and <code>False</code> as <code>0</code>. So, <code>sum(...)</code> simply counts the correctly predicted labels.\n",
    "</div>\n"
   ]
  },
  {
   "cell_type": "markdown",
   "metadata": {},
   "source": [
    "<div style=\"font-weight: bold; font-size: 200%;\">What happened?</div>\n",
    "\n",
    "Why were not all labels predicted correctly?\n",
    "\n",
    "Neither `Python` nor `scikit-learn` is broken. What we observed above is very typical for machine-learning applications.\n",
    "\n",
    "Reasons could be:\n",
    "\n",
    "- we have incomplete information: other features of beer which also contribute to the rating (like \"maltiness\") were not measured or can not be measured. \n",
    "\n",
    "- the used classifiers might have been not suitable for the given problem.\n",
    "\n",
    "- noise in the data as incorrectly assigned labels also affect results.\n",
    "\n",
    "\n",
    "**Finding sufficient features and clean data is crucial for the performance of ML algorithms!**\n",
    "\n",
    "\n",
    "Another important requirement is to make sure that you have clean data: input-features might be corrupted by flawed entries, feeding such data into a ML algorithm will usually lead to reduced performance."
   ]
  },
  {
   "cell_type": "markdown",
   "metadata": {},
   "source": [
    "## Exercise section"
   ]
  },
  {
   "cell_type": "markdown",
   "metadata": {},
   "source": [
    "### Compare with alternative machine learning method from `scikit-learn`"
   ]
  },
  {
   "cell_type": "markdown",
   "metadata": {},
   "source": [
    "Now, using previously loaded and prepared beer data, train a different `scikit-learn` classifier - the so called **Support Vector Classifier** `SVC`, and evaluate its \"re-classification\" performance again.\n",
    "\n",
    "<div class=\"alert alert-block alert-info\">\n",
    "<i class=\"fa fa-info-circle\"></i>\n",
    "<code>SVC</code>  belongs to a class of algorithms named \"Support Vector Machines\" (SVMs). Again, it will be discussed in more detail in the following scripts.\n",
    "</div>"
   ]
  },
  {
   "cell_type": "code",
   "execution_count": null,
   "metadata": {},
   "outputs": [],
   "source": [
    "from sklearn.svm import SVC\n",
    "\n",
    "classifier = SVC()\n",
    "# ..."
   ]
  },
  {
   "cell_type": "code",
   "execution_count": null,
   "metadata": {},
   "outputs": [],
   "source": [
    "classifier = SVC()\n",
    "classifier.fit(input_features, labels)\n",
    "\n",
    "predicted_labels = classifier.predict(input_features)\n",
    "\n",
    "assert predicted_labels.shape == labels.shape\n",
    "print(len(labels), \"examples\")\n",
    "print(sum(predicted_labels == labels), \"labeled correctly\")"
   ]
  },
  {
   "cell_type": "markdown",
   "metadata": {},
   "source": [
    "Better?\n",
    "\n",
    "<div class=\"alert alert-block alert-info\">\n",
    "<i class=\"fa fa-info-circle\"></i>\n",
    "Better re-classification in our example does not indicate here that <code>SVC</code> is better than <code>LogisticRegression</code> in all cases. The performance of a classifier strongly depends on the data set.\n",
    "</div>\n",
    "\n",
    "\n"
   ]
  },
  {
   "cell_type": "markdown",
   "metadata": {},
   "source": [
    "###  Experiment with hyperparameters of ML methods"
   ]
  },
  {
   "cell_type": "markdown",
   "metadata": {},
   "source": [
    "Both `LogisticRegression` and `SVC` classifiers have a hyperparameter `C` which allows to enforce a \"simplification\" (often called **regularization**) of the resulting model. Test the beers data \"re-classification\" with different values of this parameter. "
   ]
  },
  {
   "cell_type": "code",
   "execution_count": null,
   "metadata": {},
   "outputs": [],
   "source": [
    "# Recall: ?LogisticRegression\n",
    "# ..."
   ]
  },
  {
   "cell_type": "code",
   "execution_count": null,
   "metadata": {},
   "outputs": [],
   "source": [
    "from sklearn.linear_model import LogisticRegression\n",
    "\n",
    "classifier = LogisticRegression(C=2)\n",
    "\n",
    "classifier.fit(input_features, labels)\n",
    "\n",
    "predicted_labels = classifier.predict(input_features)\n",
    "\n",
    "assert predicted_labels.shape == labels.shape\n",
    "print(len(labels), \"examples\")\n",
    "print(sum(predicted_labels == labels), \"labeled correctly\")\n",
    "print(sum(predicted_labels == labels) / len(labels) * 100, \"% labeled correctly\")"
   ]
  },
  {
   "cell_type": "markdown",
   "metadata": {},
   "source": [
    "<div class=\"alert alert-block alert-warning\">\n",
    "<i class=\"fa fa-warning\"></i>&nbsp;<strong>Classifiers have hyper-parameters</strong>\n",
    "    \n",
    "All classifiers have hyper-parameters, e.g. the `C` we have seen before. It is an incident that both, `LogisticRegression` and `SVC`, have parameter named `C`. Beyond that some classifiers have more than one parameter, e.g. `SVC` also has a parameter `gamma`. But more about these details later.\n",
    "    \n",
    "</div>"
   ]
  },
  {
   "cell_type": "markdown",
   "metadata": {},
   "source": [
    "## Optional exercise"
   ]
  },
  {
   "cell_type": "markdown",
   "metadata": {},
   "source": [
    "Load and inspect the cannonical Fisher's \"Iris\" data set, which is included in `scikit-learn`: see [docs for `sklearn.datasets.load_iris`](https://scikit-learn.org/stable/modules/generated/sklearn.datasets.load_iris.html). What's conceptually diffferent?\n",
    "\n",
    "Inspect the data using scatter plots.\n",
    "\n",
    "Apply `LogisticRegression` or `SVC` classifiers. Is it easier or more difficult than classification of the beers data?\n",
    "\n"
   ]
  },
  {
   "cell_type": "code",
   "execution_count": null,
   "metadata": {},
   "outputs": [],
   "source": [
    "from sklearn.datasets import load_iris\n",
    "\n",
    "data = load_iris()\n",
    "\n",
    "# labels as text\n",
    "print(data.target_names)\n",
    "\n",
    "# (rows, columns) of the feature matrix:\n",
    "print(data.data.shape)"
   ]
  },
  {
   "cell_type": "code",
   "execution_count": null,
   "metadata": {},
   "outputs": [],
   "source": [
    "# transform the scikit-learn data structure into a data frame:\n",
    "df = pd.DataFrame(data.data, columns=data.feature_names)\n",
    "\n",
    "# add new column\n",
    "df[\"class\"] = data.target\n",
    "df.head()"
   ]
  },
  {
   "cell_type": "code",
   "execution_count": null,
   "metadata": {},
   "outputs": [],
   "source": [
    "# SOLUTION STARTS HERE"
   ]
  },
  {
   "cell_type": "markdown",
   "metadata": {},
   "source": [
    "Copyright (C) 2019-2022 ETH Zurich, SIS ID"
   ]
  },
  {
   "cell_type": "code",
   "execution_count": null,
   "metadata": {},
   "outputs": [],
   "source": []
  }
 ],
 "metadata": {
  "kernelspec": {
   "display_name": "Python 3 (ipykernel)",
   "language": "python",
   "name": "python3"
  },
  "language_info": {
   "codemirror_mode": {
    "name": "ipython",
    "version": 3
   },
   "file_extension": ".py",
   "mimetype": "text/x-python",
   "name": "python",
   "nbconvert_exporter": "python",
   "pygments_lexer": "ipython3",
   "version": "3.11.4"
  }
 },
 "nbformat": 4,
 "nbformat_minor": 4
}
