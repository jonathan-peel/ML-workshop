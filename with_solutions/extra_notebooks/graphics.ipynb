{
  "cells": [
    {
      "cell_type": "code",
      "execution_count": null,
      "metadata": {},
      "outputs": [],
      "source": [
        "from matplotlib.patches import Rectangle\n",
        "from matplotlib.text import Text\n",
        "import matplotlib.pyplot as plt\n",
        "import matplotlib\n",
        "\n",
        "%matplotlib inline\n",
        "\n",
        "scale = 0.75\n",
        "\n",
        "for run in (0, 1, 2, 3):\n",
        "    fig = plt.figure(figsize=(scale * 8, scale * 1.5))\n",
        "    ax = plt.subplot(1, 1, 1)\n",
        "    ax.set_axis_off()\n",
        "\n",
        "    for p in (0, 1, 2, 3):\n",
        "        x0 = 0.26 * p * scale\n",
        "        color = \"chocolate\" if p == run else \"steelblue\"\n",
        "        r = Rectangle(\n",
        "            (x0 + 0.01, 0.01),\n",
        "            0.23 * scale,\n",
        "            0.98,\n",
        "            figure=fig,\n",
        "            facecolor=\"w\",\n",
        "            edgecolor=color,\n",
        "            linewidth=1,\n",
        "        )\n",
        "        ax.add_patch(r)\n",
        "        plt.text(0.09 * scale + x0, 0.55 * scale, \"P\" + str(p + 1), fontsize=20 * scale)\n",
        "\n",
        "    plt.savefig(\"cross_val_%d.svg\" % run)"
      ]
    },
    {
      "cell_type": "code",
      "execution_count": null,
      "metadata": {},
      "outputs": [],
      "source": [
        "fig = plt.figure(figsize=(scale * 8, scale * 2.4))\n",
        "ax = plt.subplot(1, 1, 1)\n",
        "ax.set_axis_off()\n",
        "\n",
        "ax.set_ylim([0, 1.5])\n",
        "\n",
        "for p in (0, 1, 2, 3):\n",
        "    x0 = 0.24 * p * scale\n",
        "    color = \"steelblue\"\n",
        "    r = Rectangle(\n",
        "        (x0 + 0.02, 0.1),\n",
        "        0.22 * scale,\n",
        "        0.8,\n",
        "        figure=fig,\n",
        "        facecolor=\"w\",\n",
        "        edgecolor=color,\n",
        "        linewidth=1,\n",
        "    )\n",
        "    ax.add_patch(r)\n",
        "    plt.text(x0 + scale * 0.1, 0.54 * scale, \"P\" + str(p + 1), fontsize=20 * scale)\n",
        "\n",
        "\n",
        "r = Rectangle(\n",
        "    (0.005, 0.02),\n",
        "    0.738,\n",
        "    0.98,\n",
        "    figure=fig,\n",
        "    alpha=0.5,\n",
        "    facecolor=\"w\",\n",
        "    edgecolor=\"k\",\n",
        "    linewidth=1,\n",
        ")\n",
        "ax.add_patch(r)\n",
        "\n",
        "\n",
        "r = Rectangle(\n",
        "    (0.8, 0.1), 0.22 * scale, 0.8, figure=fig, facecolor=\"w\", edgecolor=\"g\", linewidth=1\n",
        ")\n",
        "ax.add_patch(r)\n",
        "\n",
        "plt.text(0.87, 0.54 * scale, \"V\", fontsize=20 * scale)\n",
        "plt.text(0.25, 1.2, \"crosseval\", fontsize=20 * scale)\n",
        "plt.text(0.78, 1.2, \"validation\", fontsize=20 * scale)\n",
        "\n",
        "plt.savefig(\"cross_eval_and_test.svg\", bbox=\"tight\")\n",
        "\n",
        "plt.savefig(\"cross_eval_and_test.png\", bbox=\"tight\")"
      ]
    },
    {
      "cell_type": "code",
      "execution_count": null,
      "metadata": {},
      "outputs": [],
      "source": [
        "print(r)"
      ]
    },
    {
      "cell_type": "code",
      "execution_count": null,
      "metadata": {},
      "outputs": [],
      "source": []
    },
    {
      "cell_type": "code",
      "execution_count": null,
      "metadata": {},
      "outputs": [],
      "source": [
        "def create_plot(x0, name):\n",
        "    fig = plt.figure(figsize=(scale * 8, scale * 2.4))\n",
        "\n",
        "    ax = plt.subplot(1, 1, 1)\n",
        "    ax.set_title(\"higher recall, lower precision\")\n",
        "    ax.set_axis_off()\n",
        "    ax.set_ylim([0, 0.85])\n",
        "    ax.set_xlim([0, 2])\n",
        "\n",
        "    ax.vlines(x0, 0.2, 0.8)\n",
        "    ax.arrow(1, 0.5, -0.8, 0, head_width=0.08, head_length=0.05, fc=\"k\", ec=\"k\")\n",
        "    ax.arrow(1, 0.5, 0.8, 0, head_width=0.08, head_length=0.05, fc=\"k\", ec=\"k\")\n",
        "    ax.text(0.25, 0.2, \"irrelevant results\")\n",
        "    ax.text(1.3, 0.2, \"relevant results\")\n",
        "\n",
        "    plt.savefig(name)\n",
        "\n",
        "\n",
        "create_plot(0.85, \"precision_low_recall_high.svg\")\n",
        "create_plot(1.15, \"precision_high_recall_low.svg\")"
      ]
    },
    {
      "cell_type": "code",
      "execution_count": null,
      "metadata": {},
      "outputs": [],
      "source": [
        "import numpy as np\n",
        "\n",
        "x = np.arange(1, 13, 0.2)"
      ]
    },
    {
      "cell_type": "code",
      "execution_count": null,
      "metadata": {},
      "outputs": [],
      "source": [
        "y_train = 1 - np.exp(-x / 2)\n",
        "y_eval = -np.exp(-((x - 7) ** 2))\n",
        "w = 1.2 * (np.exp(-((x / 18) ** 2) / 3)) - 0.25\n",
        "\n",
        "scale = 0.75\n",
        "plt.figure(figsize=(scale * 8, scale * 6))\n",
        "plt.plot(x, y_train, label=\"training\", color=\"steelblue\", linewidth=2)\n",
        "# plt.plot(x, w) # plt.plot(x, y_eval)\n",
        "plt.plot(x, y_train * w, label=\"eval\", color=\"chocolate\", linewidth=2)\n",
        "plt.legend()\n",
        "\n",
        "plt.title(\"accuracy training vs eval\")\n",
        "plt.xlabel(\"model complexity\")\n",
        "plt.ylabel(\"accuracy\")\n",
        "plt.savefig(\"accuracy_training_vs_eval.svg\")"
      ]
    },
    {
      "cell_type": "code",
      "execution_count": null,
      "metadata": {},
      "outputs": [],
      "source": [
        "import pandas as pd\n",
        "\n",
        "pd.set_option(\"precision\", 3)\n",
        "\n",
        "import seaborn as sns\n",
        "\n",
        "sns.set(style=\"ticks\")\n",
        "\n",
        "beer_data = pd.read_csv(\"beers.csv\")\n",
        "\n",
        "\n",
        "from mpl_toolkits.mplot3d import Axes3D\n",
        "\n",
        "fig = plt.figure(figsize=(20, 7))\n",
        "\n",
        "xv = beer_data[\"alcohol_content\"]\n",
        "yv = beer_data[\"darkness\"]\n",
        "zv = beer_data[\"bitterness\"]\n",
        "\n",
        "colors = [[\"steelblue\", \"chocolate\"][i] for i in beer_data[\"is_yummy\"]]\n",
        "\n",
        "\n",
        "def plot3d(ax):\n",
        "    ax.scatter(xv, yv, zv, c=colors, marker=\"o\")\n",
        "\n",
        "    ax.set_xlabel(\"alcohol_content\")\n",
        "    ax.set_ylabel(\"darkness\")\n",
        "    ax.set_zlabel(\"bitterness\");"
      ]
    },
    {
      "cell_type": "code",
      "execution_count": null,
      "metadata": {},
      "outputs": [],
      "source": [
        "for a in range(0, 360, 5):\n",
        "    fig = plt.figure(figsize=(9, 7))\n",
        "    print(a, end=\" \")\n",
        "    ax = fig.add_subplot(111, projection=\"3d\")\n",
        "    ax.set_axis_off()\n",
        "    plot3d(ax)\n",
        "    # ax.set_title(str(a))\n",
        "    ax.view_init(20, a)\n",
        "    plt.savefig(\"images/{:03d}.png\".format(a))\n",
        "    plt.close()"
      ]
    },
    {
      "cell_type": "markdown",
      "metadata": {},
      "source": [
        "<img src=\"images/rotated.gif?xx\" />"
      ]
    },
    {
      "cell_type": "code",
      "execution_count": null,
      "metadata": {},
      "outputs": [],
      "source": []
    }
  ],
  "metadata": {
    "kernelspec": {
      "display_name": "Python 3",
      "language": "python",
      "name": "python3"
    },
    "language_info": {
      "codemirror_mode": {
        "name": "ipython",
        "version": 3
      },
      "file_extension": ".py",
      "mimetype": "text/x-python",
      "name": "python",
      "nbconvert_exporter": "python",
      "pygments_lexer": "ipython3",
      "version": "3.7.2"
    },
    "latex_envs": {
      "LaTeX_envs_menu_present": true,
      "autoclose": false,
      "autocomplete": true,
      "bibliofile": "biblio.bib",
      "cite_by": "apalike",
      "current_citInitial": 1,
      "eqLabelWithNumbers": true,
      "eqNumInitial": 1,
      "hotkeys": {
        "equation": "Ctrl-E",
        "itemize": "Ctrl-I"
      },
      "labels_anchors": false,
      "latex_user_defs": false,
      "report_style_numbering": false,
      "user_envs_cfg": false
    }
  },
  "nbformat": 4,
  "nbformat_minor": 2
}