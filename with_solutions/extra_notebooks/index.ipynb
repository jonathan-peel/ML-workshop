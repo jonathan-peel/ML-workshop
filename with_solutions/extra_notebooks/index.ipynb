{
  "cells": [
    {
      "cell_type": "markdown",
      "metadata": {},
      "source": [
        "<div class=\"alert alert-block alert-danger\"><p>\n",
        "<strong>TODOs</strong>\n",
        "<ol>\n",
        "<li>Write script which removes the solution proposals (cells starting with <code>#SOLUTION</code>) and creates a new notebook.</li>\n",
        "</ol>\n",
        "</p></div>\n"
      ]
    },
    {
      "cell_type": "markdown",
      "metadata": {},
      "source": [
        "<div class=\"alert alert-block alert-danger\">\n",
        "Course layout w/ local notebooks links .. anything in scope of org/general comments goes also here.\n",
        "</div>\n"
      ]
    },
    {
      "cell_type": "markdown",
      "metadata": {},
      "source": [
        "# Course: Introduction to Machine Learning with Python\n",
        "\n",
        "<div class=\"alert alert-block alert-warning\">\n",
        "    <p><i class=\"fa fa-warning\"></i>&nbsp;<strong>Goal</strong></p>\n",
        "    <p>Quickly get your hands dirty with Machine Learning and know what your doing.<p>\n",
        "</div>\n"
      ]
    },
    {
      "cell_type": "markdown",
      "metadata": {},
      "source": [
        "## What will you learn?\n",
        "\n",
        "* Basic concepts of Machine Learning (ML).\n",
        "* General overview of supervised learning and related methods.\n",
        "* How to quickly start with ML using `scikit-learn` Python library."
      ]
    },
    {
      "cell_type": "markdown",
      "metadata": {},
      "source": [
        "## What will you NOT learn?\n",
        "\n",
        "* How to program with Python.\n",
        "* How exactly ML methods work.\n",
        "* Unsupervised learning methods."
      ]
    },
    {
      "cell_type": "markdown",
      "metadata": {},
      "source": [
        "## Course scripts\n",
        "\n",
        "<ol>\n",
        "    <li><a href=\"01_introduction.ipynb\">Introduction</a></li>\n",
        "    <li><a href=\"02_classification.ipynb\">Classification</a></li>\n",
        "    <li><a href=\"03_overfitting_and_cross_validation.ipynb\">Overfitting and cross-validation</a></li>\n",
        "    <li><a href=\"04_measuring_quality_of_a_classifier.ipynb\">Metrics for evaluating the performance</a></li>\n",
        "    <li><a href=\"05_classifiers_overview.ipynb\">An overview of classifiers</a></li>\n",
        "    <li><a href=\"06_preprocessing_pipelines_and_hyperparameter_optimization.ipynb\">Preprocessing pipelines and hyperparameters optmization</a></li>\n",
        "    <li>...</li>\n",
        "    \n",
        "</ol>"
      ]
    },
    {
      "cell_type": "code",
      "execution_count": null,
      "metadata": {},
      "outputs": [],
      "source": []
    }
  ],
  "metadata": {
    "kernelspec": {
      "display_name": "Python 3",
      "language": "python",
      "name": "python3"
    },
    "language_info": {
      "codemirror_mode": {
        "name": "ipython",
        "version": 3
      },
      "file_extension": ".py",
      "mimetype": "text/x-python",
      "name": "python",
      "nbconvert_exporter": "python",
      "pygments_lexer": "ipython3",
      "version": "3.7.2"
    }
  },
  "nbformat": 4,
  "nbformat_minor": 2
}